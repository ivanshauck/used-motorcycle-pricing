{
  "cells": [
    {
      "cell_type": "markdown",
      "metadata": {
        "id": "view-in-github",
        "colab_type": "text"
      },
      "source": [
        "<a href=\"https://colab.research.google.com/github/ivanshauck/used-motorcycle-pricing/blob/main/Untitled83.ipynb\" target=\"_parent\"><img src=\"https://colab.research.google.com/assets/colab-badge.svg\" alt=\"Open In Colab\"/></a>"
      ]
    },
    {
      "cell_type": "markdown",
      "metadata": {
        "id": "aT4wBqNd-10t"
      },
      "source": [
        "The purpose of this project is to build a model that can accurately price used craigslist motorcycles, so that people can go online, input various specs they're looking for, and get a reliable price estimate. My data came from craigslist, using a web crawler that I wrote based on an article from a data scientist who did something similar for used cars. (web crawler link: https://colab.research.google.com/drive/1O8R555OEiLGOXd10piuYCX4XUhZmN1F6), (article link: https://medium.com/mlearning-ai/a-step-by-step-how-to-do-a-data-science-project-with-craigslist-data-part-2-website-scraping-d352351655ee)."
      ]
    },
    {
      "cell_type": "markdown",
      "source": [
        "I start off by uploading the scraped data that I saved in json format, two files that I upload into data frames and then concatenate to create a single frame."
      ],
      "metadata": {
        "id": "kdvCHq09Z1-1"
      }
    },
    {
      "cell_type": "code",
      "execution_count": null,
      "metadata": {
        "id": "B6baBdSN-unp"
      },
      "outputs": [],
      "source": [
        "import pandas as pd\n",
        "\n",
        "import csv\n",
        "import json\n",
        "mo1 = pd.read_json('/content/moto_data3.json')\n",
        "mo2 = pd.read_json('/content/moto_data4.json')\n",
        "\n"
      ]
    },
    {
      "cell_type": "code",
      "execution_count": null,
      "metadata": {
        "id": "fSp5PSFE_AgU"
      },
      "outputs": [],
      "source": [
        "data = pd.concat([mo1,mo2],axis=0)"
      ]
    },
    {
      "cell_type": "code",
      "execution_count": null,
      "metadata": {
        "colab": {
          "base_uri": "https://localhost:8080/",
          "height": 583
        },
        "id": "ziCKstrJ_ZSE",
        "outputId": "44d8e0c1-725f-4d9b-8e2e-c0cbf1eee342"
      },
      "outputs": [
        {
          "output_type": "execute_result",
          "data": {
            "text/plain": [
              "         VIN        city  condition         date time  \\\n",
              "0       None  losangeles       None  2022-06-17 06;46   \n",
              "1       None  losangeles       None  2022-06-17 06;30   \n",
              "2       None  losangeles  excellent  2022-06-17 06;16   \n",
              "3       None  losangeles  excellent  2022-06-17 02;39   \n",
              "4  65FLH3487  losangeles  excellent  2022-06-17 01;06   \n",
              "\n",
              "   engine displacement (CC)   fuel        lat        long  odometer  \\\n",
              "0                       NaN  other  33.141686 -117.186232   25449.0   \n",
              "1                       NaN  other  33.141686 -117.186232    8025.0   \n",
              "2                       NaN    gas  42.463300  -71.011100   25297.0   \n",
              "3                       NaN    gas  34.143500 -118.126600    9800.0   \n",
              "4                    1600.0    gas  34.034200 -118.305000   33000.0   \n",
              "\n",
              "  paint color    price title status transmission     type  \\\n",
              "0        None  23999.0        clean        other     None   \n",
              "1        None  17787.0        clean        other     None   \n",
              "2        None  10000.0         None       manual     None   \n",
              "3        None   8000.0        clean    automatic  touring   \n",
              "4       brown  31000.0        clean       manual  cruiser   \n",
              "\n",
              "                         year make model  \n",
              "0  2018 Harley-Davidson FLHTCU - Electra  \n",
              "1  2020 Harley-Davidson FLHT - Electra G  \n",
              "2                   2000 harley davidson  \n",
              "3            2001 harley davidson FLSTFI  \n",
              "4           1965 harley davidson panhead  "
            ],
            "text/html": [
              "\n",
              "  <div id=\"df-cf50f88e-4740-4fbb-861e-1555d1569569\">\n",
              "    <div class=\"colab-df-container\">\n",
              "      <div>\n",
              "<style scoped>\n",
              "    .dataframe tbody tr th:only-of-type {\n",
              "        vertical-align: middle;\n",
              "    }\n",
              "\n",
              "    .dataframe tbody tr th {\n",
              "        vertical-align: top;\n",
              "    }\n",
              "\n",
              "    .dataframe thead th {\n",
              "        text-align: right;\n",
              "    }\n",
              "</style>\n",
              "<table border=\"1\" class=\"dataframe\">\n",
              "  <thead>\n",
              "    <tr style=\"text-align: right;\">\n",
              "      <th></th>\n",
              "      <th>VIN</th>\n",
              "      <th>city</th>\n",
              "      <th>condition</th>\n",
              "      <th>date time</th>\n",
              "      <th>engine displacement (CC)</th>\n",
              "      <th>fuel</th>\n",
              "      <th>lat</th>\n",
              "      <th>long</th>\n",
              "      <th>odometer</th>\n",
              "      <th>paint color</th>\n",
              "      <th>price</th>\n",
              "      <th>title status</th>\n",
              "      <th>transmission</th>\n",
              "      <th>type</th>\n",
              "      <th>year make model</th>\n",
              "    </tr>\n",
              "  </thead>\n",
              "  <tbody>\n",
              "    <tr>\n",
              "      <th>0</th>\n",
              "      <td>None</td>\n",
              "      <td>losangeles</td>\n",
              "      <td>None</td>\n",
              "      <td>2022-06-17 06;46</td>\n",
              "      <td>NaN</td>\n",
              "      <td>other</td>\n",
              "      <td>33.141686</td>\n",
              "      <td>-117.186232</td>\n",
              "      <td>25449.0</td>\n",
              "      <td>None</td>\n",
              "      <td>23999.0</td>\n",
              "      <td>clean</td>\n",
              "      <td>other</td>\n",
              "      <td>None</td>\n",
              "      <td>2018 Harley-Davidson FLHTCU - Electra</td>\n",
              "    </tr>\n",
              "    <tr>\n",
              "      <th>1</th>\n",
              "      <td>None</td>\n",
              "      <td>losangeles</td>\n",
              "      <td>None</td>\n",
              "      <td>2022-06-17 06;30</td>\n",
              "      <td>NaN</td>\n",
              "      <td>other</td>\n",
              "      <td>33.141686</td>\n",
              "      <td>-117.186232</td>\n",
              "      <td>8025.0</td>\n",
              "      <td>None</td>\n",
              "      <td>17787.0</td>\n",
              "      <td>clean</td>\n",
              "      <td>other</td>\n",
              "      <td>None</td>\n",
              "      <td>2020 Harley-Davidson FLHT - Electra G</td>\n",
              "    </tr>\n",
              "    <tr>\n",
              "      <th>2</th>\n",
              "      <td>None</td>\n",
              "      <td>losangeles</td>\n",
              "      <td>excellent</td>\n",
              "      <td>2022-06-17 06;16</td>\n",
              "      <td>NaN</td>\n",
              "      <td>gas</td>\n",
              "      <td>42.463300</td>\n",
              "      <td>-71.011100</td>\n",
              "      <td>25297.0</td>\n",
              "      <td>None</td>\n",
              "      <td>10000.0</td>\n",
              "      <td>None</td>\n",
              "      <td>manual</td>\n",
              "      <td>None</td>\n",
              "      <td>2000 harley davidson</td>\n",
              "    </tr>\n",
              "    <tr>\n",
              "      <th>3</th>\n",
              "      <td>None</td>\n",
              "      <td>losangeles</td>\n",
              "      <td>excellent</td>\n",
              "      <td>2022-06-17 02;39</td>\n",
              "      <td>NaN</td>\n",
              "      <td>gas</td>\n",
              "      <td>34.143500</td>\n",
              "      <td>-118.126600</td>\n",
              "      <td>9800.0</td>\n",
              "      <td>None</td>\n",
              "      <td>8000.0</td>\n",
              "      <td>clean</td>\n",
              "      <td>automatic</td>\n",
              "      <td>touring</td>\n",
              "      <td>2001 harley davidson FLSTFI</td>\n",
              "    </tr>\n",
              "    <tr>\n",
              "      <th>4</th>\n",
              "      <td>65FLH3487</td>\n",
              "      <td>losangeles</td>\n",
              "      <td>excellent</td>\n",
              "      <td>2022-06-17 01;06</td>\n",
              "      <td>1600.0</td>\n",
              "      <td>gas</td>\n",
              "      <td>34.034200</td>\n",
              "      <td>-118.305000</td>\n",
              "      <td>33000.0</td>\n",
              "      <td>brown</td>\n",
              "      <td>31000.0</td>\n",
              "      <td>clean</td>\n",
              "      <td>manual</td>\n",
              "      <td>cruiser</td>\n",
              "      <td>1965 harley davidson panhead</td>\n",
              "    </tr>\n",
              "  </tbody>\n",
              "</table>\n",
              "</div>\n",
              "      <button class=\"colab-df-convert\" onclick=\"convertToInteractive('df-cf50f88e-4740-4fbb-861e-1555d1569569')\"\n",
              "              title=\"Convert this dataframe to an interactive table.\"\n",
              "              style=\"display:none;\">\n",
              "        \n",
              "  <svg xmlns=\"http://www.w3.org/2000/svg\" height=\"24px\"viewBox=\"0 0 24 24\"\n",
              "       width=\"24px\">\n",
              "    <path d=\"M0 0h24v24H0V0z\" fill=\"none\"/>\n",
              "    <path d=\"M18.56 5.44l.94 2.06.94-2.06 2.06-.94-2.06-.94-.94-2.06-.94 2.06-2.06.94zm-11 1L8.5 8.5l.94-2.06 2.06-.94-2.06-.94L8.5 2.5l-.94 2.06-2.06.94zm10 10l.94 2.06.94-2.06 2.06-.94-2.06-.94-.94-2.06-.94 2.06-2.06.94z\"/><path d=\"M17.41 7.96l-1.37-1.37c-.4-.4-.92-.59-1.43-.59-.52 0-1.04.2-1.43.59L10.3 9.45l-7.72 7.72c-.78.78-.78 2.05 0 2.83L4 21.41c.39.39.9.59 1.41.59.51 0 1.02-.2 1.41-.59l7.78-7.78 2.81-2.81c.8-.78.8-2.07 0-2.86zM5.41 20L4 18.59l7.72-7.72 1.47 1.35L5.41 20z\"/>\n",
              "  </svg>\n",
              "      </button>\n",
              "      \n",
              "  <style>\n",
              "    .colab-df-container {\n",
              "      display:flex;\n",
              "      flex-wrap:wrap;\n",
              "      gap: 12px;\n",
              "    }\n",
              "\n",
              "    .colab-df-convert {\n",
              "      background-color: #E8F0FE;\n",
              "      border: none;\n",
              "      border-radius: 50%;\n",
              "      cursor: pointer;\n",
              "      display: none;\n",
              "      fill: #1967D2;\n",
              "      height: 32px;\n",
              "      padding: 0 0 0 0;\n",
              "      width: 32px;\n",
              "    }\n",
              "\n",
              "    .colab-df-convert:hover {\n",
              "      background-color: #E2EBFA;\n",
              "      box-shadow: 0px 1px 2px rgba(60, 64, 67, 0.3), 0px 1px 3px 1px rgba(60, 64, 67, 0.15);\n",
              "      fill: #174EA6;\n",
              "    }\n",
              "\n",
              "    [theme=dark] .colab-df-convert {\n",
              "      background-color: #3B4455;\n",
              "      fill: #D2E3FC;\n",
              "    }\n",
              "\n",
              "    [theme=dark] .colab-df-convert:hover {\n",
              "      background-color: #434B5C;\n",
              "      box-shadow: 0px 1px 3px 1px rgba(0, 0, 0, 0.15);\n",
              "      filter: drop-shadow(0px 1px 2px rgba(0, 0, 0, 0.3));\n",
              "      fill: #FFFFFF;\n",
              "    }\n",
              "  </style>\n",
              "\n",
              "      <script>\n",
              "        const buttonEl =\n",
              "          document.querySelector('#df-cf50f88e-4740-4fbb-861e-1555d1569569 button.colab-df-convert');\n",
              "        buttonEl.style.display =\n",
              "          google.colab.kernel.accessAllowed ? 'block' : 'none';\n",
              "\n",
              "        async function convertToInteractive(key) {\n",
              "          const element = document.querySelector('#df-cf50f88e-4740-4fbb-861e-1555d1569569');\n",
              "          const dataTable =\n",
              "            await google.colab.kernel.invokeFunction('convertToInteractive',\n",
              "                                                     [key], {});\n",
              "          if (!dataTable) return;\n",
              "\n",
              "          const docLinkHtml = 'Like what you see? Visit the ' +\n",
              "            '<a target=\"_blank\" href=https://colab.research.google.com/notebooks/data_table.ipynb>data table notebook</a>'\n",
              "            + ' to learn more about interactive tables.';\n",
              "          element.innerHTML = '';\n",
              "          dataTable['output_type'] = 'display_data';\n",
              "          await google.colab.output.renderOutput(dataTable, element);\n",
              "          const docLink = document.createElement('div');\n",
              "          docLink.innerHTML = docLinkHtml;\n",
              "          element.appendChild(docLink);\n",
              "        }\n",
              "      </script>\n",
              "    </div>\n",
              "  </div>\n",
              "  "
            ]
          },
          "metadata": {},
          "execution_count": 3
        }
      ],
      "source": [
        "data.head()"
      ]
    },
    {
      "cell_type": "markdown",
      "source": [
        "As we see the initial data has records on 19,246 different used motorcycles for sale. The relevant categorical variables that will be used will be the city the bike is being sold in, the condition, the type of fuel the bike uses, the paint color, the title status, the transmission type, the type of motorcycle, and the make. And the relevant continous variables will be engine displacement in CC's, the latitude the bike is being sold in, the age of the motorcycle, and the miles on the motorcycle to date (odometer)."
      ],
      "metadata": {
        "id": "RA5Rlbu4br8e"
      }
    },
    {
      "cell_type": "code",
      "execution_count": null,
      "metadata": {
        "colab": {
          "base_uri": "https://localhost:8080/"
        },
        "id": "elnAnrXwp8_V",
        "outputId": "923202c8-b4f6-4624-b78e-d91b6efae3da"
      },
      "outputs": [
        {
          "output_type": "stream",
          "name": "stdout",
          "text": [
            "<class 'pandas.core.frame.DataFrame'>\n",
            "Int64Index: 19246 entries, 0 to 9536\n",
            "Data columns (total 15 columns):\n",
            " #   Column                    Non-Null Count  Dtype  \n",
            "---  ------                    --------------  -----  \n",
            " 0   VIN                       5918 non-null   object \n",
            " 1   city                      19246 non-null  object \n",
            " 2   condition                 12166 non-null  object \n",
            " 3   date time                 19246 non-null  object \n",
            " 4   engine displacement (CC)  8361 non-null   float64\n",
            " 5   fuel                      19067 non-null  object \n",
            " 6   lat                       19179 non-null  float64\n",
            " 7   long                      19179 non-null  float64\n",
            " 8   odometer                  19006 non-null  float64\n",
            " 9   paint color               13003 non-null  object \n",
            " 10  price                     19246 non-null  float64\n",
            " 11  title status              15770 non-null  object \n",
            " 12  transmission              19089 non-null  object \n",
            " 13  type                      9533 non-null   object \n",
            " 14  year make model           19246 non-null  object \n",
            "dtypes: float64(5), object(10)\n",
            "memory usage: 2.3+ MB\n"
          ]
        }
      ],
      "source": [
        "data.info()"
      ]
    },
    {
      "cell_type": "markdown",
      "source": [
        "The next task is to take the \"year make model\" column and extract the year built as well as the make. We will also try to extract as many model types as possible."
      ],
      "metadata": {
        "id": "LbI8GbgPaN97"
      }
    },
    {
      "cell_type": "code",
      "execution_count": null,
      "metadata": {
        "id": "TDLLOoSLzK_O"
      },
      "outputs": [],
      "source": [
        "data['years'] = data['year make model'].str[0:4]\n",
        "data['years']\n",
        "data = data[pd.to_numeric(data['years'],errors = 'coerce').notnull()]\n",
        "\n"
      ]
    },
    {
      "cell_type": "code",
      "execution_count": null,
      "metadata": {
        "id": "4X_YXyOJU01S"
      },
      "outputs": [],
      "source": [
        "data['years'] = data['years'].astype(str).astype(int)"
      ]
    },
    {
      "cell_type": "code",
      "execution_count": null,
      "metadata": {
        "colab": {
          "base_uri": "https://localhost:8080/"
        },
        "id": "yfg6AB8vKb5R",
        "outputId": "64bf314d-77f2-4f12-d96b-e1554a1befc9"
      },
      "outputs": [
        {
          "output_type": "stream",
          "name": "stdout",
          "text": [
            "0       harley-davidson\n",
            "1       harley-davidson\n",
            "2                harley\n",
            "3                harley\n",
            "4                harley\n",
            "             ...       \n",
            "9532    harley-davidson\n",
            "9533    harley-davidson\n",
            "9534    harley-davidson\n",
            "9535             yamaha\n",
            "9536             harley\n",
            "Name: make, Length: 16562, dtype: object\n",
            "0        flhtcu\n",
            "1          flht\n",
            "2          none\n",
            "3        flstfi\n",
            "4       panhead\n",
            "         ...   \n",
            "9532      flhcs\n",
            "9533     street\n",
            "9534    touring\n",
            "9535     raider\n",
            "9536      night\n",
            "Name: model, Length: 16562, dtype: object\n"
          ]
        }
      ],
      "source": [
        "\n",
        "\n",
        "my_list = []\n",
        "for record in data['year make model']:\n",
        "  list0 = record.split()\n",
        "  \n",
        "  try:\n",
        "    my_list.append(list0[1].lower())\n",
        "  except:\n",
        "    my_list.append('none')\n",
        "a_list = []\n",
        "for record in data['year make model']:\n",
        "  list1 = record.split()\n",
        "\n",
        "  try:\n",
        "    if list1[2].lower() == 'davidson':\n",
        "      a_list.append(list1[3].lower())\n",
        "    else:\n",
        "      a_list.append(list1[2].lower())\n",
        "  except:\n",
        "    a_list.append('none')\n",
        "\n",
        "data['model'] = a_list\n",
        "\n",
        "\n",
        "\n",
        "my_list\n",
        "data['make'] = my_list\n",
        "print(data['make'])\n",
        "print(data['model'])"
      ]
    },
    {
      "cell_type": "markdown",
      "source": [
        "Next I take the makes that were written into craigslist as \"harley-davidson\" and convert them to just \"harley\" since they are the same thing."
      ],
      "metadata": {
        "id": "zmOWDLXkao9q"
      }
    },
    {
      "cell_type": "code",
      "source": [
        "data['model'].value_counts()"
      ],
      "metadata": {
        "colab": {
          "base_uri": "https://localhost:8080/"
        },
        "id": "-2EEYO9ywT1g",
        "outputId": "97e07b6c-fe51-42d3-d703-a1ac6c25b3c9"
      },
      "execution_count": null,
      "outputs": [
        {
          "output_type": "execute_result",
          "data": {
            "text/plain": [
              "none         1139\n",
              "road          428\n",
              "street        375\n",
              "ninja         372\n",
              "softail       341\n",
              "             ... \n",
              "vbb             1\n",
              "dominator       1\n",
              "wr              1\n",
              "yzfr1           1\n",
              "tourer          1\n",
              "Name: model, Length: 1872, dtype: int64"
            ]
          },
          "metadata": {},
          "execution_count": 8
        }
      ]
    },
    {
      "cell_type": "code",
      "execution_count": null,
      "metadata": {
        "id": "e7HOkLXwN-cm"
      },
      "outputs": [],
      "source": [
        "pd.set_option('display.max_rows',None)\n",
        "data['make'].value_counts()\n",
        "data.loc[data['make']=='harley-davidson', 'make'] = 'harley'\n",
        "data.loc[data['make']=='hd', 'make'] = 'harley'\n",
        "data['make'].value_counts()\n"
      ]
    },
    {
      "cell_type": "code",
      "source": [
        "data = data.loc[data['model']!='none']"
      ],
      "metadata": {
        "id": "mvBf3xOIMcYB"
      },
      "execution_count": null,
      "outputs": []
    },
    {
      "cell_type": "markdown",
      "source": [
        "My next step was to create an age column, which is just the current year (2022), minus the year built. I also decided to only work with the makes that had at least 50 motorcycles for sale in the data, this is because make is a significant determinant of price, the models with little representation wouldn't be properly priced by the model. This led to working with 19 manufacturers: harley-davidson, honda, kawasaki, susuki, bmw, ktm, ducati, triumph, husqvarna, indian, aprilia, victory, can-am, royal, kayo, vespa, moto, ssr, and zero. This brings the number of rows down to 13,607."
      ],
      "metadata": {
        "id": "bXzznUlVa02w"
      }
    },
    {
      "cell_type": "code",
      "execution_count": null,
      "metadata": {
        "colab": {
          "base_uri": "https://localhost:8080/"
        },
        "id": "5W0_1BqsQCfT",
        "outputId": "16a95cfd-c14d-4cd6-d53c-eeed4479a2bb"
      },
      "outputs": [
        {
          "output_type": "stream",
          "name": "stdout",
          "text": [
            "<class 'pandas.core.frame.DataFrame'>\n",
            "Int64Index: 13607 entries, 0 to 9536\n",
            "Data columns (total 19 columns):\n",
            " #   Column                    Non-Null Count  Dtype  \n",
            "---  ------                    --------------  -----  \n",
            " 0   VIN                       5493 non-null   object \n",
            " 1   city                      13607 non-null  object \n",
            " 2   condition                 8962 non-null   object \n",
            " 3   date time                 13607 non-null  object \n",
            " 4   engine displacement (CC)  6194 non-null   float64\n",
            " 5   fuel                      13513 non-null  object \n",
            " 6   lat                       13544 non-null  float64\n",
            " 7   long                      13544 non-null  float64\n",
            " 8   odometer                  13469 non-null  float64\n",
            " 9   paint color               10402 non-null  object \n",
            " 10  price                     13607 non-null  float64\n",
            " 11  title status              12749 non-null  object \n",
            " 12  transmission              13537 non-null  object \n",
            " 13  type                      6993 non-null   object \n",
            " 14  year make model           13607 non-null  object \n",
            " 15  years                     13607 non-null  int64  \n",
            " 16  model                     13607 non-null  object \n",
            " 17  make                      13607 non-null  object \n",
            " 18  age                       13607 non-null  int64  \n",
            "dtypes: float64(5), int64(2), object(12)\n",
            "memory usage: 2.1+ MB\n"
          ]
        }
      ],
      "source": [
        "data['age'] = 2022 - data['years']\n",
        "makes = ['harley','honda','kawasaki','suzuki','bmw','ktm','ducati','triumph','husqvarna','indian','aprilia',\n",
        "         'victory','can-am','royal','kayo','vespa','moto','zero','yamaha']\n",
        "\n",
        "data1 = data[data['make'].isin(makes)]\n",
        "data1.info()\n"
      ]
    },
    {
      "cell_type": "markdown",
      "source": [
        "Next up I'll begin working on filling missing values for the categorical variables with the mode from each column."
      ],
      "metadata": {
        "id": "8ngBpxJHdSl9"
      }
    },
    {
      "cell_type": "code",
      "execution_count": null,
      "metadata": {
        "colab": {
          "base_uri": "https://localhost:8080/"
        },
        "id": "F74ReQ2OrPz-",
        "outputId": "52ab5da9-0086-4c22-b2b2-b021e69d5a79"
      },
      "outputs": [
        {
          "output_type": "stream",
          "name": "stdout",
          "text": [
            "0    excellent\n",
            "dtype: object\n",
            "0    gas\n",
            "dtype: object\n",
            "0    black\n",
            "dtype: object\n",
            "0    clean\n",
            "dtype: object\n",
            "0    cruiser\n",
            "dtype: object\n",
            "0    manual\n",
            "dtype: object\n"
          ]
        },
        {
          "output_type": "stream",
          "name": "stderr",
          "text": [
            "/usr/local/lib/python3.7/dist-packages/ipykernel_launcher.py:13: SettingWithCopyWarning: \n",
            "A value is trying to be set on a copy of a slice from a DataFrame.\n",
            "Try using .loc[row_indexer,col_indexer] = value instead\n",
            "\n",
            "See the caveats in the documentation: https://pandas.pydata.org/pandas-docs/stable/user_guide/indexing.html#returning-a-view-versus-a-copy\n",
            "  del sys.path[0]\n",
            "/usr/local/lib/python3.7/dist-packages/ipykernel_launcher.py:14: SettingWithCopyWarning: \n",
            "A value is trying to be set on a copy of a slice from a DataFrame.\n",
            "Try using .loc[row_indexer,col_indexer] = value instead\n",
            "\n",
            "See the caveats in the documentation: https://pandas.pydata.org/pandas-docs/stable/user_guide/indexing.html#returning-a-view-versus-a-copy\n",
            "  \n",
            "/usr/local/lib/python3.7/dist-packages/ipykernel_launcher.py:15: SettingWithCopyWarning: \n",
            "A value is trying to be set on a copy of a slice from a DataFrame.\n",
            "Try using .loc[row_indexer,col_indexer] = value instead\n",
            "\n",
            "See the caveats in the documentation: https://pandas.pydata.org/pandas-docs/stable/user_guide/indexing.html#returning-a-view-versus-a-copy\n",
            "  from ipykernel import kernelapp as app\n",
            "/usr/local/lib/python3.7/dist-packages/ipykernel_launcher.py:16: SettingWithCopyWarning: \n",
            "A value is trying to be set on a copy of a slice from a DataFrame.\n",
            "Try using .loc[row_indexer,col_indexer] = value instead\n",
            "\n",
            "See the caveats in the documentation: https://pandas.pydata.org/pandas-docs/stable/user_guide/indexing.html#returning-a-view-versus-a-copy\n",
            "  app.launch_new_instance()\n",
            "/usr/local/lib/python3.7/dist-packages/ipykernel_launcher.py:17: SettingWithCopyWarning: \n",
            "A value is trying to be set on a copy of a slice from a DataFrame.\n",
            "Try using .loc[row_indexer,col_indexer] = value instead\n",
            "\n",
            "See the caveats in the documentation: https://pandas.pydata.org/pandas-docs/stable/user_guide/indexing.html#returning-a-view-versus-a-copy\n",
            "/usr/local/lib/python3.7/dist-packages/ipykernel_launcher.py:18: SettingWithCopyWarning: \n",
            "A value is trying to be set on a copy of a slice from a DataFrame.\n",
            "Try using .loc[row_indexer,col_indexer] = value instead\n",
            "\n",
            "See the caveats in the documentation: https://pandas.pydata.org/pandas-docs/stable/user_guide/indexing.html#returning-a-view-versus-a-copy\n"
          ]
        }
      ],
      "source": [
        "condition_mode = data['condition'].mode()\n",
        "fuel_mode = data['fuel'].mode()\n",
        "paint_mode = data['paint color'].mode()\n",
        "title_mode = data['title status'].mode()\n",
        "type_mode = data['type'].mode()\n",
        "transmission_mode = data['transmission'].mode()\n",
        "print(condition_mode)\n",
        "print(fuel_mode)\n",
        "print(paint_mode)\n",
        "print(title_mode)\n",
        "print(type_mode)\n",
        "print(transmission_mode)\n",
        "data1['condition'] = data1['condition'].fillna('excellent')\n",
        "data1['fuel'] = data1['fuel'].fillna('gas')\n",
        "data1['paint color'] = data1['paint color'].fillna('black')\n",
        "data1['title status'] = data1['title status'].fillna('clean')\n",
        "data1['type'] = data1['type'].fillna('cruiser')\n",
        "data1['transmission'] = data1['transmission'].fillna('manual')\n"
      ]
    },
    {
      "cell_type": "markdown",
      "source": [
        "Next I label encode the categorical variables, and fill the latitude and odometer columns with the mean from each column. For CC's I take average CC's for each type of motorcycle, and each row that has a missing value for CC's gets the average value for their type of motorcycle filled in. This is because CC's has many missing values, but is an important variable, and therefore filling the missing values in with just the mean of the whole column didn't seem suitable."
      ],
      "metadata": {
        "id": "AMEH3wYDeBt4"
      }
    },
    {
      "cell_type": "code",
      "execution_count": null,
      "metadata": {
        "colab": {
          "base_uri": "https://localhost:8080/"
        },
        "id": "yMQ6qym70OZs",
        "outputId": "9f7cca0b-b9db-4148-97ce-609456b760ab"
      },
      "outputs": [
        {
          "output_type": "stream",
          "name": "stdout",
          "text": [
            "<class 'pandas.core.frame.DataFrame'>\n",
            "Int64Index: 13607 entries, 0 to 9536\n",
            "Data columns (total 29 columns):\n",
            " #   Column                    Non-Null Count  Dtype  \n",
            "---  ------                    --------------  -----  \n",
            " 0   VIN                       5493 non-null   object \n",
            " 1   city                      13607 non-null  object \n",
            " 2   condition                 13607 non-null  object \n",
            " 3   date time                 13607 non-null  object \n",
            " 4   engine displacement (CC)  13607 non-null  float64\n",
            " 5   fuel                      13607 non-null  object \n",
            " 6   lat                       13607 non-null  float64\n",
            " 7   long                      13544 non-null  float64\n",
            " 8   odometer                  13607 non-null  float64\n",
            " 9   paint color               13607 non-null  object \n",
            " 10  price                     13607 non-null  float64\n",
            " 11  title status              13607 non-null  object \n",
            " 12  transmission              13607 non-null  object \n",
            " 13  type                      13607 non-null  object \n",
            " 14  year make model           13607 non-null  object \n",
            " 15  years                     13607 non-null  int64  \n",
            " 16  model                     13607 non-null  object \n",
            " 17  make                      13607 non-null  object \n",
            " 18  age                       13607 non-null  int64  \n",
            " 19  city_enc                  13607 non-null  float64\n",
            " 20  condition_enc             13607 non-null  float64\n",
            " 21  fuel_enc                  13607 non-null  float64\n",
            " 22  paint_enc                 13607 non-null  float64\n",
            " 23  title_enc                 13607 non-null  float64\n",
            " 24  transmission_enc          13607 non-null  float64\n",
            " 25  type_enc                  13607 non-null  float64\n",
            " 26  make_enc                  13607 non-null  float64\n",
            " 27  model_enc                 13607 non-null  float64\n",
            " 28  cc_type_means             13607 non-null  float64\n",
            "dtypes: float64(15), int64(2), object(12)\n",
            "memory usage: 3.1+ MB\n"
          ]
        }
      ],
      "source": [
        "data2 = data1.copy()\n",
        "city_means = data2.groupby('city')['price'].mean()\n",
        "data2['city_enc'] = data2['city'].map(city_means)\n",
        "condition_means = data2.groupby('condition')['price'].mean()\n",
        "data2['condition_enc'] = data2['condition'].map(condition_means)\n",
        "fuel_means = data2.groupby('fuel')['price'].mean()\n",
        "data2['fuel_enc'] = data2['fuel'].map(fuel_means)\n",
        "paint_means = data2.groupby('paint color')['price'].mean()\n",
        "data2['paint_enc'] = data2['paint color'].map(paint_means)\n",
        "title_means = data2.groupby('title status')['price'].mean()\n",
        "data2['title_enc'] = data2['title status'].map(title_means)\n",
        "transmission_means = data2.groupby('transmission')['price'].mean()\n",
        "data2['transmission_enc'] = data2['transmission'].map(transmission_means)\n",
        "type_means = data2.groupby('type')['price'].mean()\n",
        "data2['type_enc'] = data2['type'].map(type_means)\n",
        "make_means = data2.groupby('make')['price'].mean()\n",
        "data2['make_enc'] = data2['make'].map(make_means)\n",
        "model_means = data2.groupby('model')['price'].mean()\n",
        "data2['model_enc'] = data2['model'].map(model_means)\n",
        "type_cc_means = data2.groupby('type')['engine displacement (CC)'].mean()\n",
        "data2['cc_type_means'] = data2['type'].map(type_cc_means)\n",
        "\n",
        "\n",
        "\n",
        "data2['engine displacement (CC)'] = data2['engine displacement (CC)'].fillna(data2['cc_type_means'])\n",
        "    \n",
        "\n",
        "  \n",
        "data2['odometer'] = data2['odometer'].fillna(data2['odometer'].mean())\n",
        "\n",
        "data2['lat'] = data2['lat'].fillna(data2['lat'].mean())\n",
        "data2['engine displacement (CC)']\n",
        "data2.info()"
      ]
    },
    {
      "cell_type": "code",
      "source": [
        "data2.corr()"
      ],
      "metadata": {
        "id": "eiFM2rBuE-wB",
        "outputId": "ee382427-0b62-4dea-8f6b-b4dabedfa4af",
        "colab": {
          "base_uri": "https://localhost:8080/",
          "height": 716
        }
      },
      "execution_count": null,
      "outputs": [
        {
          "output_type": "execute_result",
          "data": {
            "text/plain": [
              "                          engine displacement (CC)       lat      long  \\\n",
              "engine displacement (CC)                  1.000000  0.036793  0.100202   \n",
              "lat                                       0.036793  1.000000  0.175390   \n",
              "long                                      0.100202  0.175390  1.000000   \n",
              "odometer                                  0.006057 -0.003954 -0.006541   \n",
              "price                                     0.220855 -0.047917 -0.002267   \n",
              "years                                     0.066209 -0.064898 -0.016866   \n",
              "age                                      -0.066209  0.064898  0.016866   \n",
              "city_enc                                  0.056769 -0.372181  0.020366   \n",
              "condition_enc                             0.113692 -0.020095  0.009283   \n",
              "fuel_enc                                  0.070298  0.006774  0.075645   \n",
              "paint_enc                                 0.098868  0.016074  0.056219   \n",
              "title_enc                                 0.081951 -0.004265  0.027054   \n",
              "transmission_enc                          0.067606 -0.117428 -0.047569   \n",
              "type_enc                                  0.473218  0.027536  0.130566   \n",
              "make_enc                                  0.222831 -0.003649  0.052727   \n",
              "model_enc                                 0.260982 -0.048549  0.031012   \n",
              "cc_type_means                             0.553454  0.034998  0.136554   \n",
              "\n",
              "                          odometer     price     years       age  city_enc  \\\n",
              "engine displacement (CC)  0.006057  0.220855  0.066209 -0.066209  0.056769   \n",
              "lat                      -0.003954 -0.047917 -0.064898  0.064898 -0.372181   \n",
              "long                     -0.006541 -0.002267 -0.016866  0.016866  0.020366   \n",
              "odometer                  1.000000 -0.025751 -0.088532  0.088532 -0.003814   \n",
              "price                    -0.025751  1.000000  0.382403 -0.382403  0.152442   \n",
              "years                    -0.088532  0.382403  1.000000 -1.000000  0.106953   \n",
              "age                       0.088532 -0.382403 -1.000000  1.000000 -0.106953   \n",
              "city_enc                 -0.003814  0.152442  0.106953 -0.106953  1.000000   \n",
              "condition_enc            -0.022954  0.264867  0.344689 -0.344689  0.052555   \n",
              "fuel_enc                 -0.015783  0.168541  0.211772 -0.211772  0.092424   \n",
              "paint_enc                -0.011542  0.183934  0.149878 -0.149878  0.050375   \n",
              "title_enc                -0.052561  0.112094  0.139264 -0.139264  0.003608   \n",
              "transmission_enc         -0.011279  0.166762  0.165690 -0.165690  0.145332   \n",
              "type_enc                  0.007447  0.342876  0.131306 -0.131306  0.056662   \n",
              "make_enc                 -0.001026  0.552332  0.104479 -0.104479  0.085588   \n",
              "model_enc                -0.009041  0.798701  0.258363 -0.258363  0.132991   \n",
              "cc_type_means             0.020373  0.293169  0.080367 -0.080367  0.044593   \n",
              "\n",
              "                          condition_enc  fuel_enc  paint_enc  title_enc  \\\n",
              "engine displacement (CC)       0.113692  0.070298   0.098868   0.081951   \n",
              "lat                           -0.020095  0.006774   0.016074  -0.004265   \n",
              "long                           0.009283  0.075645   0.056219   0.027054   \n",
              "odometer                      -0.022954 -0.015783  -0.011542  -0.052561   \n",
              "price                          0.264867  0.168541   0.183934   0.112094   \n",
              "years                          0.344689  0.211772   0.149878   0.139264   \n",
              "age                           -0.344689 -0.211772  -0.149878  -0.139264   \n",
              "city_enc                       0.052555  0.092424   0.050375   0.003608   \n",
              "condition_enc                  1.000000  0.130258   0.093837   0.165595   \n",
              "fuel_enc                       0.130258  1.000000   0.371424   0.020134   \n",
              "paint_enc                      0.093837  0.371424   1.000000   0.042386   \n",
              "title_enc                      0.165595  0.020134   0.042386   1.000000   \n",
              "transmission_enc               0.090324  0.087415   0.021785   0.028641   \n",
              "type_enc                       0.155892  0.167633   0.193551   0.083542   \n",
              "make_enc                       0.127037  0.084860   0.134693   0.072565   \n",
              "model_enc                      0.201356  0.128223   0.156797   0.087776   \n",
              "cc_type_means                  0.136588  0.128447   0.168564   0.088319   \n",
              "\n",
              "                          transmission_enc  type_enc  make_enc  model_enc  \\\n",
              "engine displacement (CC)          0.067606  0.473218  0.222831   0.260982   \n",
              "lat                              -0.117428  0.027536 -0.003649  -0.048549   \n",
              "long                             -0.047569  0.130566  0.052727   0.031012   \n",
              "odometer                         -0.011279  0.007447 -0.001026  -0.009041   \n",
              "price                             0.166762  0.342876  0.552332   0.798701   \n",
              "years                             0.165690  0.131306  0.104479   0.258363   \n",
              "age                              -0.165690 -0.131306 -0.104479  -0.258363   \n",
              "city_enc                          0.145332  0.056662  0.085588   0.132991   \n",
              "condition_enc                     0.090324  0.155892  0.127037   0.201356   \n",
              "fuel_enc                          0.087415  0.167633  0.084860   0.128223   \n",
              "paint_enc                         0.021785  0.193551  0.134693   0.156797   \n",
              "title_enc                         0.028641  0.083542  0.072565   0.087776   \n",
              "transmission_enc                  1.000000  0.197678  0.106017   0.145080   \n",
              "type_enc                          0.197678  1.000000  0.312311   0.372472   \n",
              "make_enc                          0.106017  0.312311  1.000000   0.669649   \n",
              "model_enc                         0.145080  0.372472  0.669649   1.000000   \n",
              "cc_type_means                     0.169879  0.855027  0.305308   0.333606   \n",
              "\n",
              "                          cc_type_means  \n",
              "engine displacement (CC)       0.553454  \n",
              "lat                            0.034998  \n",
              "long                           0.136554  \n",
              "odometer                       0.020373  \n",
              "price                          0.293169  \n",
              "years                          0.080367  \n",
              "age                           -0.080367  \n",
              "city_enc                       0.044593  \n",
              "condition_enc                  0.136588  \n",
              "fuel_enc                       0.128447  \n",
              "paint_enc                      0.168564  \n",
              "title_enc                      0.088319  \n",
              "transmission_enc               0.169879  \n",
              "type_enc                       0.855027  \n",
              "make_enc                       0.305308  \n",
              "model_enc                      0.333606  \n",
              "cc_type_means                  1.000000  "
            ],
            "text/html": [
              "\n",
              "  <div id=\"df-93e97500-c9a9-4421-a2c2-6519b613211b\">\n",
              "    <div class=\"colab-df-container\">\n",
              "      <div>\n",
              "<style scoped>\n",
              "    .dataframe tbody tr th:only-of-type {\n",
              "        vertical-align: middle;\n",
              "    }\n",
              "\n",
              "    .dataframe tbody tr th {\n",
              "        vertical-align: top;\n",
              "    }\n",
              "\n",
              "    .dataframe thead th {\n",
              "        text-align: right;\n",
              "    }\n",
              "</style>\n",
              "<table border=\"1\" class=\"dataframe\">\n",
              "  <thead>\n",
              "    <tr style=\"text-align: right;\">\n",
              "      <th></th>\n",
              "      <th>engine displacement (CC)</th>\n",
              "      <th>lat</th>\n",
              "      <th>long</th>\n",
              "      <th>odometer</th>\n",
              "      <th>price</th>\n",
              "      <th>years</th>\n",
              "      <th>age</th>\n",
              "      <th>city_enc</th>\n",
              "      <th>condition_enc</th>\n",
              "      <th>fuel_enc</th>\n",
              "      <th>paint_enc</th>\n",
              "      <th>title_enc</th>\n",
              "      <th>transmission_enc</th>\n",
              "      <th>type_enc</th>\n",
              "      <th>make_enc</th>\n",
              "      <th>model_enc</th>\n",
              "      <th>cc_type_means</th>\n",
              "    </tr>\n",
              "  </thead>\n",
              "  <tbody>\n",
              "    <tr>\n",
              "      <th>engine displacement (CC)</th>\n",
              "      <td>1.000000</td>\n",
              "      <td>0.036793</td>\n",
              "      <td>0.100202</td>\n",
              "      <td>0.006057</td>\n",
              "      <td>0.220855</td>\n",
              "      <td>0.066209</td>\n",
              "      <td>-0.066209</td>\n",
              "      <td>0.056769</td>\n",
              "      <td>0.113692</td>\n",
              "      <td>0.070298</td>\n",
              "      <td>0.098868</td>\n",
              "      <td>0.081951</td>\n",
              "      <td>0.067606</td>\n",
              "      <td>0.473218</td>\n",
              "      <td>0.222831</td>\n",
              "      <td>0.260982</td>\n",
              "      <td>0.553454</td>\n",
              "    </tr>\n",
              "    <tr>\n",
              "      <th>lat</th>\n",
              "      <td>0.036793</td>\n",
              "      <td>1.000000</td>\n",
              "      <td>0.175390</td>\n",
              "      <td>-0.003954</td>\n",
              "      <td>-0.047917</td>\n",
              "      <td>-0.064898</td>\n",
              "      <td>0.064898</td>\n",
              "      <td>-0.372181</td>\n",
              "      <td>-0.020095</td>\n",
              "      <td>0.006774</td>\n",
              "      <td>0.016074</td>\n",
              "      <td>-0.004265</td>\n",
              "      <td>-0.117428</td>\n",
              "      <td>0.027536</td>\n",
              "      <td>-0.003649</td>\n",
              "      <td>-0.048549</td>\n",
              "      <td>0.034998</td>\n",
              "    </tr>\n",
              "    <tr>\n",
              "      <th>long</th>\n",
              "      <td>0.100202</td>\n",
              "      <td>0.175390</td>\n",
              "      <td>1.000000</td>\n",
              "      <td>-0.006541</td>\n",
              "      <td>-0.002267</td>\n",
              "      <td>-0.016866</td>\n",
              "      <td>0.016866</td>\n",
              "      <td>0.020366</td>\n",
              "      <td>0.009283</td>\n",
              "      <td>0.075645</td>\n",
              "      <td>0.056219</td>\n",
              "      <td>0.027054</td>\n",
              "      <td>-0.047569</td>\n",
              "      <td>0.130566</td>\n",
              "      <td>0.052727</td>\n",
              "      <td>0.031012</td>\n",
              "      <td>0.136554</td>\n",
              "    </tr>\n",
              "    <tr>\n",
              "      <th>odometer</th>\n",
              "      <td>0.006057</td>\n",
              "      <td>-0.003954</td>\n",
              "      <td>-0.006541</td>\n",
              "      <td>1.000000</td>\n",
              "      <td>-0.025751</td>\n",
              "      <td>-0.088532</td>\n",
              "      <td>0.088532</td>\n",
              "      <td>-0.003814</td>\n",
              "      <td>-0.022954</td>\n",
              "      <td>-0.015783</td>\n",
              "      <td>-0.011542</td>\n",
              "      <td>-0.052561</td>\n",
              "      <td>-0.011279</td>\n",
              "      <td>0.007447</td>\n",
              "      <td>-0.001026</td>\n",
              "      <td>-0.009041</td>\n",
              "      <td>0.020373</td>\n",
              "    </tr>\n",
              "    <tr>\n",
              "      <th>price</th>\n",
              "      <td>0.220855</td>\n",
              "      <td>-0.047917</td>\n",
              "      <td>-0.002267</td>\n",
              "      <td>-0.025751</td>\n",
              "      <td>1.000000</td>\n",
              "      <td>0.382403</td>\n",
              "      <td>-0.382403</td>\n",
              "      <td>0.152442</td>\n",
              "      <td>0.264867</td>\n",
              "      <td>0.168541</td>\n",
              "      <td>0.183934</td>\n",
              "      <td>0.112094</td>\n",
              "      <td>0.166762</td>\n",
              "      <td>0.342876</td>\n",
              "      <td>0.552332</td>\n",
              "      <td>0.798701</td>\n",
              "      <td>0.293169</td>\n",
              "    </tr>\n",
              "    <tr>\n",
              "      <th>years</th>\n",
              "      <td>0.066209</td>\n",
              "      <td>-0.064898</td>\n",
              "      <td>-0.016866</td>\n",
              "      <td>-0.088532</td>\n",
              "      <td>0.382403</td>\n",
              "      <td>1.000000</td>\n",
              "      <td>-1.000000</td>\n",
              "      <td>0.106953</td>\n",
              "      <td>0.344689</td>\n",
              "      <td>0.211772</td>\n",
              "      <td>0.149878</td>\n",
              "      <td>0.139264</td>\n",
              "      <td>0.165690</td>\n",
              "      <td>0.131306</td>\n",
              "      <td>0.104479</td>\n",
              "      <td>0.258363</td>\n",
              "      <td>0.080367</td>\n",
              "    </tr>\n",
              "    <tr>\n",
              "      <th>age</th>\n",
              "      <td>-0.066209</td>\n",
              "      <td>0.064898</td>\n",
              "      <td>0.016866</td>\n",
              "      <td>0.088532</td>\n",
              "      <td>-0.382403</td>\n",
              "      <td>-1.000000</td>\n",
              "      <td>1.000000</td>\n",
              "      <td>-0.106953</td>\n",
              "      <td>-0.344689</td>\n",
              "      <td>-0.211772</td>\n",
              "      <td>-0.149878</td>\n",
              "      <td>-0.139264</td>\n",
              "      <td>-0.165690</td>\n",
              "      <td>-0.131306</td>\n",
              "      <td>-0.104479</td>\n",
              "      <td>-0.258363</td>\n",
              "      <td>-0.080367</td>\n",
              "    </tr>\n",
              "    <tr>\n",
              "      <th>city_enc</th>\n",
              "      <td>0.056769</td>\n",
              "      <td>-0.372181</td>\n",
              "      <td>0.020366</td>\n",
              "      <td>-0.003814</td>\n",
              "      <td>0.152442</td>\n",
              "      <td>0.106953</td>\n",
              "      <td>-0.106953</td>\n",
              "      <td>1.000000</td>\n",
              "      <td>0.052555</td>\n",
              "      <td>0.092424</td>\n",
              "      <td>0.050375</td>\n",
              "      <td>0.003608</td>\n",
              "      <td>0.145332</td>\n",
              "      <td>0.056662</td>\n",
              "      <td>0.085588</td>\n",
              "      <td>0.132991</td>\n",
              "      <td>0.044593</td>\n",
              "    </tr>\n",
              "    <tr>\n",
              "      <th>condition_enc</th>\n",
              "      <td>0.113692</td>\n",
              "      <td>-0.020095</td>\n",
              "      <td>0.009283</td>\n",
              "      <td>-0.022954</td>\n",
              "      <td>0.264867</td>\n",
              "      <td>0.344689</td>\n",
              "      <td>-0.344689</td>\n",
              "      <td>0.052555</td>\n",
              "      <td>1.000000</td>\n",
              "      <td>0.130258</td>\n",
              "      <td>0.093837</td>\n",
              "      <td>0.165595</td>\n",
              "      <td>0.090324</td>\n",
              "      <td>0.155892</td>\n",
              "      <td>0.127037</td>\n",
              "      <td>0.201356</td>\n",
              "      <td>0.136588</td>\n",
              "    </tr>\n",
              "    <tr>\n",
              "      <th>fuel_enc</th>\n",
              "      <td>0.070298</td>\n",
              "      <td>0.006774</td>\n",
              "      <td>0.075645</td>\n",
              "      <td>-0.015783</td>\n",
              "      <td>0.168541</td>\n",
              "      <td>0.211772</td>\n",
              "      <td>-0.211772</td>\n",
              "      <td>0.092424</td>\n",
              "      <td>0.130258</td>\n",
              "      <td>1.000000</td>\n",
              "      <td>0.371424</td>\n",
              "      <td>0.020134</td>\n",
              "      <td>0.087415</td>\n",
              "      <td>0.167633</td>\n",
              "      <td>0.084860</td>\n",
              "      <td>0.128223</td>\n",
              "      <td>0.128447</td>\n",
              "    </tr>\n",
              "    <tr>\n",
              "      <th>paint_enc</th>\n",
              "      <td>0.098868</td>\n",
              "      <td>0.016074</td>\n",
              "      <td>0.056219</td>\n",
              "      <td>-0.011542</td>\n",
              "      <td>0.183934</td>\n",
              "      <td>0.149878</td>\n",
              "      <td>-0.149878</td>\n",
              "      <td>0.050375</td>\n",
              "      <td>0.093837</td>\n",
              "      <td>0.371424</td>\n",
              "      <td>1.000000</td>\n",
              "      <td>0.042386</td>\n",
              "      <td>0.021785</td>\n",
              "      <td>0.193551</td>\n",
              "      <td>0.134693</td>\n",
              "      <td>0.156797</td>\n",
              "      <td>0.168564</td>\n",
              "    </tr>\n",
              "    <tr>\n",
              "      <th>title_enc</th>\n",
              "      <td>0.081951</td>\n",
              "      <td>-0.004265</td>\n",
              "      <td>0.027054</td>\n",
              "      <td>-0.052561</td>\n",
              "      <td>0.112094</td>\n",
              "      <td>0.139264</td>\n",
              "      <td>-0.139264</td>\n",
              "      <td>0.003608</td>\n",
              "      <td>0.165595</td>\n",
              "      <td>0.020134</td>\n",
              "      <td>0.042386</td>\n",
              "      <td>1.000000</td>\n",
              "      <td>0.028641</td>\n",
              "      <td>0.083542</td>\n",
              "      <td>0.072565</td>\n",
              "      <td>0.087776</td>\n",
              "      <td>0.088319</td>\n",
              "    </tr>\n",
              "    <tr>\n",
              "      <th>transmission_enc</th>\n",
              "      <td>0.067606</td>\n",
              "      <td>-0.117428</td>\n",
              "      <td>-0.047569</td>\n",
              "      <td>-0.011279</td>\n",
              "      <td>0.166762</td>\n",
              "      <td>0.165690</td>\n",
              "      <td>-0.165690</td>\n",
              "      <td>0.145332</td>\n",
              "      <td>0.090324</td>\n",
              "      <td>0.087415</td>\n",
              "      <td>0.021785</td>\n",
              "      <td>0.028641</td>\n",
              "      <td>1.000000</td>\n",
              "      <td>0.197678</td>\n",
              "      <td>0.106017</td>\n",
              "      <td>0.145080</td>\n",
              "      <td>0.169879</td>\n",
              "    </tr>\n",
              "    <tr>\n",
              "      <th>type_enc</th>\n",
              "      <td>0.473218</td>\n",
              "      <td>0.027536</td>\n",
              "      <td>0.130566</td>\n",
              "      <td>0.007447</td>\n",
              "      <td>0.342876</td>\n",
              "      <td>0.131306</td>\n",
              "      <td>-0.131306</td>\n",
              "      <td>0.056662</td>\n",
              "      <td>0.155892</td>\n",
              "      <td>0.167633</td>\n",
              "      <td>0.193551</td>\n",
              "      <td>0.083542</td>\n",
              "      <td>0.197678</td>\n",
              "      <td>1.000000</td>\n",
              "      <td>0.312311</td>\n",
              "      <td>0.372472</td>\n",
              "      <td>0.855027</td>\n",
              "    </tr>\n",
              "    <tr>\n",
              "      <th>make_enc</th>\n",
              "      <td>0.222831</td>\n",
              "      <td>-0.003649</td>\n",
              "      <td>0.052727</td>\n",
              "      <td>-0.001026</td>\n",
              "      <td>0.552332</td>\n",
              "      <td>0.104479</td>\n",
              "      <td>-0.104479</td>\n",
              "      <td>0.085588</td>\n",
              "      <td>0.127037</td>\n",
              "      <td>0.084860</td>\n",
              "      <td>0.134693</td>\n",
              "      <td>0.072565</td>\n",
              "      <td>0.106017</td>\n",
              "      <td>0.312311</td>\n",
              "      <td>1.000000</td>\n",
              "      <td>0.669649</td>\n",
              "      <td>0.305308</td>\n",
              "    </tr>\n",
              "    <tr>\n",
              "      <th>model_enc</th>\n",
              "      <td>0.260982</td>\n",
              "      <td>-0.048549</td>\n",
              "      <td>0.031012</td>\n",
              "      <td>-0.009041</td>\n",
              "      <td>0.798701</td>\n",
              "      <td>0.258363</td>\n",
              "      <td>-0.258363</td>\n",
              "      <td>0.132991</td>\n",
              "      <td>0.201356</td>\n",
              "      <td>0.128223</td>\n",
              "      <td>0.156797</td>\n",
              "      <td>0.087776</td>\n",
              "      <td>0.145080</td>\n",
              "      <td>0.372472</td>\n",
              "      <td>0.669649</td>\n",
              "      <td>1.000000</td>\n",
              "      <td>0.333606</td>\n",
              "    </tr>\n",
              "    <tr>\n",
              "      <th>cc_type_means</th>\n",
              "      <td>0.553454</td>\n",
              "      <td>0.034998</td>\n",
              "      <td>0.136554</td>\n",
              "      <td>0.020373</td>\n",
              "      <td>0.293169</td>\n",
              "      <td>0.080367</td>\n",
              "      <td>-0.080367</td>\n",
              "      <td>0.044593</td>\n",
              "      <td>0.136588</td>\n",
              "      <td>0.128447</td>\n",
              "      <td>0.168564</td>\n",
              "      <td>0.088319</td>\n",
              "      <td>0.169879</td>\n",
              "      <td>0.855027</td>\n",
              "      <td>0.305308</td>\n",
              "      <td>0.333606</td>\n",
              "      <td>1.000000</td>\n",
              "    </tr>\n",
              "  </tbody>\n",
              "</table>\n",
              "</div>\n",
              "      <button class=\"colab-df-convert\" onclick=\"convertToInteractive('df-93e97500-c9a9-4421-a2c2-6519b613211b')\"\n",
              "              title=\"Convert this dataframe to an interactive table.\"\n",
              "              style=\"display:none;\">\n",
              "        \n",
              "  <svg xmlns=\"http://www.w3.org/2000/svg\" height=\"24px\"viewBox=\"0 0 24 24\"\n",
              "       width=\"24px\">\n",
              "    <path d=\"M0 0h24v24H0V0z\" fill=\"none\"/>\n",
              "    <path d=\"M18.56 5.44l.94 2.06.94-2.06 2.06-.94-2.06-.94-.94-2.06-.94 2.06-2.06.94zm-11 1L8.5 8.5l.94-2.06 2.06-.94-2.06-.94L8.5 2.5l-.94 2.06-2.06.94zm10 10l.94 2.06.94-2.06 2.06-.94-2.06-.94-.94-2.06-.94 2.06-2.06.94z\"/><path d=\"M17.41 7.96l-1.37-1.37c-.4-.4-.92-.59-1.43-.59-.52 0-1.04.2-1.43.59L10.3 9.45l-7.72 7.72c-.78.78-.78 2.05 0 2.83L4 21.41c.39.39.9.59 1.41.59.51 0 1.02-.2 1.41-.59l7.78-7.78 2.81-2.81c.8-.78.8-2.07 0-2.86zM5.41 20L4 18.59l7.72-7.72 1.47 1.35L5.41 20z\"/>\n",
              "  </svg>\n",
              "      </button>\n",
              "      \n",
              "  <style>\n",
              "    .colab-df-container {\n",
              "      display:flex;\n",
              "      flex-wrap:wrap;\n",
              "      gap: 12px;\n",
              "    }\n",
              "\n",
              "    .colab-df-convert {\n",
              "      background-color: #E8F0FE;\n",
              "      border: none;\n",
              "      border-radius: 50%;\n",
              "      cursor: pointer;\n",
              "      display: none;\n",
              "      fill: #1967D2;\n",
              "      height: 32px;\n",
              "      padding: 0 0 0 0;\n",
              "      width: 32px;\n",
              "    }\n",
              "\n",
              "    .colab-df-convert:hover {\n",
              "      background-color: #E2EBFA;\n",
              "      box-shadow: 0px 1px 2px rgba(60, 64, 67, 0.3), 0px 1px 3px 1px rgba(60, 64, 67, 0.15);\n",
              "      fill: #174EA6;\n",
              "    }\n",
              "\n",
              "    [theme=dark] .colab-df-convert {\n",
              "      background-color: #3B4455;\n",
              "      fill: #D2E3FC;\n",
              "    }\n",
              "\n",
              "    [theme=dark] .colab-df-convert:hover {\n",
              "      background-color: #434B5C;\n",
              "      box-shadow: 0px 1px 3px 1px rgba(0, 0, 0, 0.15);\n",
              "      filter: drop-shadow(0px 1px 2px rgba(0, 0, 0, 0.3));\n",
              "      fill: #FFFFFF;\n",
              "    }\n",
              "  </style>\n",
              "\n",
              "      <script>\n",
              "        const buttonEl =\n",
              "          document.querySelector('#df-93e97500-c9a9-4421-a2c2-6519b613211b button.colab-df-convert');\n",
              "        buttonEl.style.display =\n",
              "          google.colab.kernel.accessAllowed ? 'block' : 'none';\n",
              "\n",
              "        async function convertToInteractive(key) {\n",
              "          const element = document.querySelector('#df-93e97500-c9a9-4421-a2c2-6519b613211b');\n",
              "          const dataTable =\n",
              "            await google.colab.kernel.invokeFunction('convertToInteractive',\n",
              "                                                     [key], {});\n",
              "          if (!dataTable) return;\n",
              "\n",
              "          const docLinkHtml = 'Like what you see? Visit the ' +\n",
              "            '<a target=\"_blank\" href=https://colab.research.google.com/notebooks/data_table.ipynb>data table notebook</a>'\n",
              "            + ' to learn more about interactive tables.';\n",
              "          element.innerHTML = '';\n",
              "          dataTable['output_type'] = 'display_data';\n",
              "          await google.colab.output.renderOutput(dataTable, element);\n",
              "          const docLink = document.createElement('div');\n",
              "          docLink.innerHTML = docLinkHtml;\n",
              "          element.appendChild(docLink);\n",
              "        }\n",
              "      </script>\n",
              "    </div>\n",
              "  </div>\n",
              "  "
            ]
          },
          "metadata": {},
          "execution_count": 14
        }
      ]
    },
    {
      "cell_type": "markdown",
      "source": [
        "Next up the columns for the model are selected, by dropping the columns that are irrelevant at this stage. I also created 3 interaction variables (this was also done with the frame that had no missing values). These are the label encoded make value times the label encoded condition value, the odometer reading times the age, and the label encoded type value times the label encoded title status value. I also drop all records of motorcycles priced at 3000 dollars or less. The model was making huge errors for these lower priced motorcycles. This will be another limitation of this pricing model, potential motorcycle customers will need to be looking for bikes that cost more than 3000 dollars to really get an accurate estimate, fortunately this drops a little over 1000 records out of 13607, and brings us to 12532. "
      ],
      "metadata": {
        "id": "--zEm9DEfSE_"
      }
    },
    {
      "cell_type": "code",
      "execution_count": null,
      "metadata": {
        "id": "vrZMuLnxVwJ8"
      },
      "outputs": [],
      "source": [
        "\n",
        "frame1 = data2.drop(columns=['VIN','city','condition','date time','fuel','paint color','title status',\n",
        "                             'transmission','type','year make model','years','long','cc_type_means'])\n",
        "frame1.dropna(inplace=True)\n",
        "frame1 = frame1.loc[frame1['price']>=3000]\n",
        "X1 = frame1.drop(columns=['price'])\n",
        "Y1 = frame1['price']\n",
        "X1['interaction1'] = X1['make_enc']*X1['condition_enc']\n",
        "X1['interaction2'] = X1['age']*X1['odometer']\n",
        "X1['interaction3'] = X1['title_enc']*X1['type_enc']\n",
        "\n"
      ]
    },
    {
      "cell_type": "code",
      "execution_count": null,
      "metadata": {
        "colab": {
          "base_uri": "https://localhost:8080/"
        },
        "id": "Qr0PKUcnVo7Q",
        "outputId": "64365098-68df-4e2f-c690-4821bb840187"
      },
      "outputs": [
        {
          "output_type": "stream",
          "name": "stdout",
          "text": [
            "<class 'pandas.core.frame.DataFrame'>\n",
            "Int64Index: 12532 entries, 0 to 9536\n",
            "Data columns (total 18 columns):\n",
            " #   Column                    Non-Null Count  Dtype  \n",
            "---  ------                    --------------  -----  \n",
            " 0   engine displacement (CC)  12532 non-null  float64\n",
            " 1   lat                       12532 non-null  float64\n",
            " 2   odometer                  12532 non-null  float64\n",
            " 3   model                     12532 non-null  object \n",
            " 4   make                      12532 non-null  object \n",
            " 5   age                       12532 non-null  int64  \n",
            " 6   city_enc                  12532 non-null  float64\n",
            " 7   condition_enc             12532 non-null  float64\n",
            " 8   fuel_enc                  12532 non-null  float64\n",
            " 9   paint_enc                 12532 non-null  float64\n",
            " 10  title_enc                 12532 non-null  float64\n",
            " 11  transmission_enc          12532 non-null  float64\n",
            " 12  type_enc                  12532 non-null  float64\n",
            " 13  make_enc                  12532 non-null  float64\n",
            " 14  model_enc                 12532 non-null  float64\n",
            " 15  interaction1              12532 non-null  float64\n",
            " 16  interaction2              12532 non-null  float64\n",
            " 17  interaction3              12532 non-null  float64\n",
            "dtypes: float64(15), int64(1), object(2)\n",
            "memory usage: 1.8+ MB\n"
          ]
        }
      ],
      "source": [
        "\n",
        "X1.info()"
      ]
    },
    {
      "cell_type": "markdown",
      "source": [
        "Next I break the data up into training and test sets, with the test set containing 20% of the data, and the training set 80% of the data. I used randomized search CV to find the best parameters for the random forest. Below you'll also see attempts to use a gradient boosting regressor as well as a k nearest neighbors regressor. Since using the models in their default mode led to the random forest having far better results as far as R squared and mean absolute percentage error was concerned, I decided to stick with the random forest."
      ],
      "metadata": {
        "id": "yUE-TSsyhpUT"
      }
    },
    {
      "cell_type": "code",
      "execution_count": null,
      "metadata": {
        "colab": {
          "base_uri": "https://localhost:8080/"
        },
        "id": "OBLDsd5yyct9",
        "outputId": "41c9636c-e58c-4884-97fd-0f41f5add8d9"
      },
      "outputs": [
        {
          "output_type": "stream",
          "name": "stdout",
          "text": [
            "0.8721162340679462\n",
            "[0.85556499 0.87151206 0.85155841 0.83031067 0.83811061]\n"
          ]
        }
      ],
      "source": [
        "from sklearn.model_selection import RandomizedSearchCV\n",
        "from sklearn.ensemble import RandomForestRegressor\n",
        "from sklearn.model_selection import train_test_split\n",
        "from sklearn.model_selection import cross_val_score\n",
        "from sklearn.preprocessing import StandardScaler\n",
        "\n",
        "X_train, X_test, Y_train, Y_test = train_test_split(X1,Y1,test_size=.2, random_state=22)\n",
        "\n",
        "X_train1 = X_train.drop(columns=['make','model'])\n",
        "X_test1 = X_test.drop(columns=['make','model'])\n",
        "parameters = {'n_estimators':[75,100,150,200,300],'criterion':['squared_error','absolute_error'],'max_depth':[25,75,100,125]}\n",
        "rfr = RandomForestRegressor(n_estimators=200,max_depth=125,n_jobs=-1)\n",
        "                            \n",
        "                            \n",
        "                            \n",
        "                            \n",
        "RFR = RandomizedSearchCV(rfr, parameters,cv=2)\n",
        "rfr.fit(X_train1,Y_train)\n",
        "rfr_pred = rfr.predict(X_test1)\n",
        "print(rfr.score(X_test1,Y_test))\n",
        "print(cross_val_score(rfr,X_train1,Y_train,cv=5))"
      ]
    },
    {
      "cell_type": "code",
      "source": [
        "\n",
        "from sklearn.ensemble import GradientBoostingRegressor\n",
        "gbr = GradientBoostingRegressor()\n",
        "gbr.fit(X_train1,Y_train)\n",
        "gbr_pred = gbr.predict(X_test1)\n",
        "print(gbr.score(X_test1,Y_test))"
      ],
      "metadata": {
        "colab": {
          "base_uri": "https://localhost:8080/"
        },
        "id": "Rc6f4JL0x_7A",
        "outputId": "a2f1c9bb-9d16-462f-e28f-ca517c4c55af"
      },
      "execution_count": null,
      "outputs": [
        {
          "output_type": "stream",
          "name": "stdout",
          "text": [
            "0.8197846094732989\n"
          ]
        }
      ]
    },
    {
      "cell_type": "code",
      "source": [
        "from sklearn.neighbors import KNeighborsRegressor\n",
        "knnr = KNeighborsRegressor(n_neighbors=20,weights='distance')\n",
        "knnr.fit(X_train1,Y_train)\n",
        "k_pred = knnr.predict(X_test1)\n",
        "print(knnr.score(X_test1,Y_test))\n",
        "\n"
      ],
      "metadata": {
        "colab": {
          "base_uri": "https://localhost:8080/"
        },
        "id": "cs0NTW7Jydp2",
        "outputId": "382c6956-bbad-47c3-b5b3-3c4a1c86808a"
      },
      "execution_count": null,
      "outputs": [
        {
          "output_type": "stream",
          "name": "stdout",
          "text": [
            "0.7676729313014095\n"
          ]
        }
      ]
    },
    {
      "cell_type": "markdown",
      "source": [
        "We see the random forest gives us our best R squared value of about .87."
      ],
      "metadata": {
        "id": "rA_UBp0V12NX"
      }
    },
    {
      "cell_type": "markdown",
      "source": [
        "Next we take a look at the errors."
      ],
      "metadata": {
        "id": "Rub0MMqH2lML"
      }
    },
    {
      "cell_type": "code",
      "execution_count": null,
      "metadata": {
        "colab": {
          "base_uri": "https://localhost:8080/"
        },
        "id": "Aeoa7WZtVF_f",
        "outputId": "f1812506-7e34-4e14-c8ec-d8acd38810f3"
      },
      "outputs": [
        {
          "output_type": "stream",
          "name": "stdout",
          "text": [
            "2399.5845677132147\n",
            "1355.5219650862243\n",
            "0.14058352316507547\n",
            "704.2021489621493\n"
          ]
        }
      ],
      "source": [
        "import math\n",
        "from sklearn.metrics import mean_absolute_error\n",
        "from sklearn.metrics import mean_squared_error\n",
        "from sklearn.metrics import mean_absolute_percentage_error\n",
        "from sklearn.metrics import median_absolute_error\n",
        "mse = mean_squared_error(Y_test,rfr_pred)\n",
        "mae = mean_absolute_error(Y_test,rfr_pred)\n",
        "mape = mean_absolute_percentage_error(Y_test,rfr_pred)\n",
        "mae2 = median_absolute_error(Y_test,rfr_pred)\n",
        "\n",
        "print(mse**(1/2))\n",
        "print(mae)\n",
        "print(mape)\n",
        "print(mae2)\n"
      ]
    },
    {
      "cell_type": "markdown",
      "source": [
        "So with this model the price would be accurate within 14% of the outputted price on average."
      ],
      "metadata": {
        "id": "QncGwFd52pI4"
      }
    },
    {
      "cell_type": "markdown",
      "source": [
        "However the median absolute percentage error tells us a different story, it's only about 8%. This implies that there are some outliers in the error terms."
      ],
      "metadata": {
        "id": "jvoMlLSO22n1"
      }
    },
    {
      "cell_type": "code",
      "source": [
        "import numpy as np\n",
        "mdape = np.median((np.abs(np.subtract(Y_test,rfr_pred)/Y_test)))*100\n",
        "print(mdape)"
      ],
      "metadata": {
        "colab": {
          "base_uri": "https://localhost:8080/"
        },
        "id": "JkA4zbzCZmD7",
        "outputId": "5e874b4a-87e3-4723-b844-56a059f6f4da"
      },
      "execution_count": null,
      "outputs": [
        {
          "output_type": "stream",
          "name": "stdout",
          "text": [
            "8.071484848484838\n"
          ]
        }
      ]
    },
    {
      "cell_type": "markdown",
      "source": [
        "Let's take a look at the boxplot for absolute percentage errors. It's clear that there are a great deal of outliers here. "
      ],
      "metadata": {
        "id": "iWaUHMI24rdW"
      }
    },
    {
      "cell_type": "code",
      "source": [
        "import matplotlib.pyplot as plt\n",
        "import numpy as np\n",
        "errors = np.abs((Y_test-rfr_pred)/Y_test)*100\n",
        "plt.figure(figsize=(20,10))\n",
        "plt.title('boxplot of random forest regressor absolute percentage errors')\n",
        "plt.boxplot(errors)"
      ],
      "metadata": {
        "colab": {
          "base_uri": "https://localhost:8080/",
          "height": 766
        },
        "id": "pTaB9keu3JiJ",
        "outputId": "72bfe55f-06ba-4bf1-a590-bd604c72d498"
      },
      "execution_count": null,
      "outputs": [
        {
          "output_type": "execute_result",
          "data": {
            "text/plain": [
              "{'boxes': [<matplotlib.lines.Line2D at 0x7f4210aac6d0>],\n",
              " 'caps': [<matplotlib.lines.Line2D at 0x7f422d2642d0>,\n",
              "  <matplotlib.lines.Line2D at 0x7f4216493050>],\n",
              " 'fliers': [<matplotlib.lines.Line2D at 0x7f422d299bd0>],\n",
              " 'means': [],\n",
              " 'medians': [<matplotlib.lines.Line2D at 0x7f421b1bb090>],\n",
              " 'whiskers': [<matplotlib.lines.Line2D at 0x7f422d20b450>,\n",
              "  <matplotlib.lines.Line2D at 0x7f4213613d90>]}"
            ]
          },
          "metadata": {},
          "execution_count": 240
        },
        {
          "output_type": "display_data",
          "data": {
            "text/plain": [
              "<Figure size 1440x720 with 1 Axes>"
            ],
            "image/png": "[encoded data removed]"
          },
          "metadata": {
            "needs_background": "light"
          }
        }
      ]
    },
    {
      "cell_type": "code",
      "source": [
        "pred = list(rfr_pred)\n",
        "Y = list(Y_test)\n",
        "all = pd.DataFrame()\n",
        "all['model'] = X_test['model']\n",
        "all['makes'] = X_test['make']\n",
        "all['pred'] = pred\n",
        "all['real'] = Y\n",
        "all['error'] = (np.abs(np.subtract(all['real'],all['pred'])/all['real']))*100\n",
        "all.head()\n",
        "high = all.loc[all['error']>100]\n",
        "low = all.loc[all['error']<=5]\n",
        "print('the average price for rows with errors below 5% is {}$'.format(round(low['real'].mean()),2))\n",
        "print('the average price for rows with errors above 100% is {}$'.format(round(high['real'].mean()),2))\n",
        "print('the average price for all rows in the data is {}$'.format(round(all['real'].mean()),2))"
      ],
      "metadata": {
        "colab": {
          "base_uri": "https://localhost:8080/"
        },
        "id": "z25v3W_dUWAb",
        "outputId": "0e790db1-7951-43be-9fb8-f80a3c7349d8"
      },
      "execution_count": null,
      "outputs": [
        {
          "output_type": "stream",
          "name": "stdout",
          "text": [
            "the average price for rows with errors below 5% is 11370$\n",
            "the average price for rows with errors above 100% is 5000$\n",
            "the average price for all rows in the data is 10710$\n"
          ]
        }
      ]
    },
    {
      "cell_type": "code",
      "source": [
        "plt.figure(figsize=(10,5))\n",
        "plt.title('price distribution')\n",
        "plt.hist(data2['price'])"
      ],
      "metadata": {
        "colab": {
          "base_uri": "https://localhost:8080/",
          "height": 440
        },
        "id": "I3YoiMQXpyBM",
        "outputId": "6212b3fe-f171-4aaa-da09-7832da29c220"
      },
      "execution_count": null,
      "outputs": [
        {
          "output_type": "execute_result",
          "data": {
            "text/plain": [
              "(array([6.118e+03, 5.053e+03, 1.663e+03, 6.130e+02, 9.800e+01, 5.400e+01,\n",
              "        4.000e+00, 2.000e+00, 0.000e+00, 2.000e+00]),\n",
              " array([1.00000e+00, 7.59710e+03, 1.51932e+04, 2.27893e+04, 3.03854e+04,\n",
              "        3.79815e+04, 4.55776e+04, 5.31737e+04, 6.07698e+04, 6.83659e+04,\n",
              "        7.59620e+04]),\n",
              " <a list of 10 Patch objects>)"
            ]
          },
          "metadata": {},
          "execution_count": 248
        },
        {
          "output_type": "display_data",
          "data": {
            "text/plain": [
              "<Figure size 720x360 with 1 Axes>"
            ],
            "image/png": "[encoded data removed]"
          },
          "metadata": {
            "needs_background": "light"
          }
        }
      ]
    },
    {
      "cell_type": "markdown",
      "source": [
        "Above we see that the rows that didn't have a model or where the model wasn't properly extracted, had a higher mean absolute percentage error. And below we take a look at the mean absolute percentage error for each make. Moto bikes have the largest by far with an error of over 30%. Vespa and Zero were the only manufacturers with a mean absolute percentage error above 20%."
      ],
      "metadata": {
        "id": "2i3PKW90_4N6"
      }
    },
    {
      "cell_type": "code",
      "source": [
        "harley = all.loc[all['makes']=='harley']\n",
        "aprilia = all.loc[all['makes']=='aprilia']\n",
        "vespa = all.loc[all['makes']=='vespa']\n",
        "moto = all.loc[all['makes']=='moto']\n",
        "husqvarna = all.loc[all['makes']=='husqvarna']\n",
        "ducati = all.loc[all['makes']=='ducati']\n",
        "suzuki = all.loc[all['makes']=='suzuki']\n",
        "yamaha = all.loc[all['makes']=='yamaha']\n",
        "honda = all.loc[all['makes']=='honda']\n",
        "kawasaki = all.loc[all['makes']=='kawasaki']\n",
        "bmw = all.loc[all['makes']=='bmw']\n",
        "ktm = all.loc[all['makes']=='ktm']\n",
        "indian = all.loc[all['makes']=='indian']\n",
        "victory = all.loc[all['makes']=='victory']\n",
        "royal = all.loc[all['makes']=='royal']\n",
        "moto = all.loc[all['makes']=='moto']\n",
        "canam = all.loc[all['makes']=='can-am']\n",
        "triumph = all.loc[all['makes']=='triumph']\n",
        "zero = all.loc[all['makes']=='zero']\n",
        "print('zero error was {}%'.format(round(zero['error'].mean()),2))\n",
        "print('triumph error was {}%'.format(round(triumph['error'].mean()),2))\n",
        "print('canam error was {}%'.format(round(canam['error'].mean()),2))\n",
        "print('royal error was {}%'.format(round(royal['error'].mean()),2))\n",
        "print('indian error was {}%'.format(round(indian['error'].mean()),2))\n",
        "print('ktm error was {}%'.format(round(ktm['error'].mean()),2))\n",
        "print('bmw error was {}%'.format(round(bmw['error'].mean()),2))\n",
        "print('kawasaki error was {}%'.format(round(kawasaki['error'].mean()),2))\n",
        "print('honda error was {}%'.format(round(honda['error'].mean()),2))\n",
        "print('yamaha error was {}%'.format(round(yamaha['error'].mean()),2))\n",
        "print('suzuki error was {}%'.format(round(suzuki['error'].mean()),2))\n",
        "print('ducati error was {}%'.format(round(ducati['error'].mean()),2))\n",
        "print('husqvarna error was {}%'.format(round(husqvarna['error'].mean()),2))\n",
        "print('moto error was {}%'.format(round(moto['error'].mean()),2))\n",
        "print('vespa error was {}%'.format(round(vespa['error'].mean()),2))\n",
        "print('aprilia error was {}%'.format(round(aprilia['error'].mean()),2))\n",
        "print('harley error was {}%'.format(round(harley['error'].mean()),2))"
      ],
      "metadata": {
        "colab": {
          "base_uri": "https://localhost:8080/"
        },
        "id": "aPNS0qcHDsWv",
        "outputId": "24dbc602-2c53-418a-8db6-e9e6b711c8e6"
      },
      "execution_count": null,
      "outputs": [
        {
          "output_type": "stream",
          "name": "stdout",
          "text": [
            "zero error was 28%\n",
            "triumph error was 16%\n",
            "canam error was 16%\n",
            "royal error was 4%\n",
            "indian error was 16%\n",
            "ktm error was 15%\n",
            "bmw error was 17%\n",
            "kawasaki error was 17%\n",
            "honda error was 13%\n",
            "yamaha error was 12%\n",
            "suzuki error was 14%\n",
            "ducati error was 13%\n",
            "husqvarna error was 19%\n",
            "moto error was 31%\n",
            "vespa error was 21%\n",
            "aprilia error was 18%\n",
            "harley error was 12%\n"
          ]
        }
      ]
    },
    {
      "cell_type": "markdown",
      "source": [
        "I had previously stated earlier that this model tends to not do well with lower priced motorcycles. We see that in action here as our instances here of errors of 100% or more had an average of 5,000 dollars of the price of the motorcycle they corresponded to, whereas the average motorcycle price for the whole dataset was 11,370 dollars, a rather large difference. Before removing all motorcycles priced at 3000 dollars or below my mean absolute percent error was over 300."
      ],
      "metadata": {
        "id": "IHubySuR6pE0"
      }
    },
    {
      "cell_type": "markdown",
      "source": [
        "Here we see that the percentage of motorcycles with a pricing error of 25 percent or more is about 18 percent, this is problematic of course, however it does imply that about 82% of motorcycles would be priced without any egregious errors."
      ],
      "metadata": {
        "id": "OzwfPW8U8gSy"
      }
    },
    {
      "cell_type": "code",
      "source": [
        "\n",
        "above_25 = all.loc[all['error']>25]\n",
        "length_high = len(above_25)\n",
        "length_total = len(all)\n",
        "percentage = (length_high/length_total)*100\n",
        "\n",
        "print('the percentage of motorcycles with an absolute percent error of 25 or more is {}'.format(round((percentage),2)))"
      ],
      "metadata": {
        "colab": {
          "base_uri": "https://localhost:8080/"
        },
        "id": "Cj9VV9mXVcAg",
        "outputId": "a274fdae-3c3b-4f8e-f948-5a6ad7ccdc50"
      },
      "execution_count": null,
      "outputs": [
        {
          "output_type": "stream",
          "name": "stdout",
          "text": [
            "the percentage of motorcycles with an absolute percent error of 25 or more is 17.79\n"
          ]
        }
      ]
    },
    {
      "cell_type": "markdown",
      "source": [
        "While the results obtained in this project certainly aren't ideal we can at least say that if a potential customer or seller have all the specs for their motorcycle on hand to input, then this model will on average produce an output with a 14% absolute percent error on average, and 82 percent of motorcycles will be priced with a 25% mean absolute error or less."
      ],
      "metadata": {
        "id": "-bcgHyLoA8DW"
      }
    },
    {
      "cell_type": "markdown",
      "source": [
        "The next steps for this attempt at accurate motorcycle pricing would be to try to scrape more data, perhaps from multiple websites so as to get a more universal price estimate. This could also allow for the creation of a separate model for instances of motorcycles priced at 3000$ or less."
      ],
      "metadata": {
        "id": "CjkALpJADVv1"
      }
    }
  ],
  "metadata": {
    "colab": {
      "collapsed_sections": [],
      "name": "Untitled83.ipynb",
      "provenance": [],
      "authorship_tag": "ABX9TyOqke31b6nBv9jv3Sdnqh19",
      "include_colab_link": true
    },
    "kernelspec": {
      "display_name": "Python 3",
      "name": "python3"
    },
    "language_info": {
      "name": "python"
    }
  },
  "nbformat": 4,
  "nbformat_minor": 0
}